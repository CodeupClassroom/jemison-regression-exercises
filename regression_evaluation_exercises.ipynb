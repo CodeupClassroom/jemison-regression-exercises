{
 "cells": [
  {
   "cell_type": "markdown",
   "metadata": {},
   "source": [
    "# Regression Evaluation Exercises"
   ]
  },
  {
   "cell_type": "code",
   "execution_count": 1,
   "metadata": {},
   "outputs": [],
   "source": [
    "import pandas as pd\n",
    "import numpy as np\n",
    "import matplotlib.pyplot as plt\n",
    "import seaborn as sns\n",
    "\n",
    "from scipy import stats\n",
    "from sklearn.metrics import mean_squared_error, r2_score\n",
    "from sklearn.model_selection import train_test_split\n",
    "from sklearn.linear_model import LinearRegression\n",
    "from math import sqrt\n",
    "import statsmodels.api as sm\n",
    "\n",
    "import warnings\n",
    "warnings.filterwarnings('ignore')\n",
    "import math\n",
    "import wrangle"
   ]
  },
  {
   "cell_type": "markdown",
   "metadata": {},
   "source": [
    "### 1. Load your zillow dataset"
   ]
  },
  {
   "cell_type": "code",
   "execution_count": 2,
   "metadata": {},
   "outputs": [],
   "source": [
    "df = wrangle.wrangle_zillow()"
   ]
  },
  {
   "cell_type": "code",
   "execution_count": 3,
   "metadata": {},
   "outputs": [
    {
     "data": {
      "text/html": [
       "<div>\n",
       "<style scoped>\n",
       "    .dataframe tbody tr th:only-of-type {\n",
       "        vertical-align: middle;\n",
       "    }\n",
       "\n",
       "    .dataframe tbody tr th {\n",
       "        vertical-align: top;\n",
       "    }\n",
       "\n",
       "    .dataframe thead th {\n",
       "        text-align: right;\n",
       "    }\n",
       "</style>\n",
       "<table border=\"1\" class=\"dataframe\">\n",
       "  <thead>\n",
       "    <tr style=\"text-align: right;\">\n",
       "      <th></th>\n",
       "      <th>bedroomcnt</th>\n",
       "      <th>bathroomcnt</th>\n",
       "      <th>calculatedfinishedsquarefeet</th>\n",
       "      <th>taxvaluedollarcnt</th>\n",
       "      <th>yearbuilt</th>\n",
       "      <th>taxamount</th>\n",
       "      <th>fips</th>\n",
       "    </tr>\n",
       "  </thead>\n",
       "  <tbody>\n",
       "    <tr>\n",
       "      <th>0</th>\n",
       "      <td>4</td>\n",
       "      <td>2.0</td>\n",
       "      <td>3633</td>\n",
       "      <td>296425</td>\n",
       "      <td>2005</td>\n",
       "      <td>6941.39</td>\n",
       "      <td>6037</td>\n",
       "    </tr>\n",
       "    <tr>\n",
       "      <th>1</th>\n",
       "      <td>3</td>\n",
       "      <td>4.0</td>\n",
       "      <td>1620</td>\n",
       "      <td>847770</td>\n",
       "      <td>2011</td>\n",
       "      <td>10244.94</td>\n",
       "      <td>6037</td>\n",
       "    </tr>\n",
       "    <tr>\n",
       "      <th>2</th>\n",
       "      <td>3</td>\n",
       "      <td>2.0</td>\n",
       "      <td>2077</td>\n",
       "      <td>646760</td>\n",
       "      <td>1926</td>\n",
       "      <td>7924.68</td>\n",
       "      <td>6037</td>\n",
       "    </tr>\n",
       "    <tr>\n",
       "      <th>3</th>\n",
       "      <td>0</td>\n",
       "      <td>0.0</td>\n",
       "      <td>1200</td>\n",
       "      <td>5328</td>\n",
       "      <td>1972</td>\n",
       "      <td>91.60</td>\n",
       "      <td>6037</td>\n",
       "    </tr>\n",
       "    <tr>\n",
       "      <th>4</th>\n",
       "      <td>0</td>\n",
       "      <td>0.0</td>\n",
       "      <td>171</td>\n",
       "      <td>6920</td>\n",
       "      <td>1973</td>\n",
       "      <td>255.17</td>\n",
       "      <td>6037</td>\n",
       "    </tr>\n",
       "  </tbody>\n",
       "</table>\n",
       "</div>"
      ],
      "text/plain": [
       "   bedroomcnt  bathroomcnt  calculatedfinishedsquarefeet  taxvaluedollarcnt  \\\n",
       "0           4          2.0                          3633             296425   \n",
       "1           3          4.0                          1620             847770   \n",
       "2           3          2.0                          2077             646760   \n",
       "3           0          0.0                          1200               5328   \n",
       "4           0          0.0                           171               6920   \n",
       "\n",
       "   yearbuilt  taxamount  fips  \n",
       "0       2005    6941.39  6037  \n",
       "1       2011   10244.94  6037  \n",
       "2       1926    7924.68  6037  \n",
       "3       1972      91.60  6037  \n",
       "4       1973     255.17  6037  "
      ]
     },
     "execution_count": 3,
     "metadata": {},
     "output_type": "execute_result"
    }
   ],
   "source": [
    "df.head()"
   ]
  },
  {
   "cell_type": "code",
   "execution_count": 4,
   "metadata": {},
   "outputs": [
    {
     "name": "stdout",
     "output_type": "stream",
     "text": [
      "(1172966, 7) (502700, 7) (418917, 7)\n"
     ]
    }
   ],
   "source": [
    "train_validate, test = train_test_split(df, test_size=.2, random_state=123)\n",
    "train, validate = train_test_split(train_validate, test_size=.3, random_state=123)\n",
    "print(train.shape, validate.shape, test.shape)"
   ]
  },
  {
   "cell_type": "code",
   "execution_count": 5,
   "metadata": {},
   "outputs": [
    {
     "data": {
      "text/plain": [
       "Index(['bedroomcnt', 'bathroomcnt', 'calculatedfinishedsquarefeet',\n",
       "       'taxvaluedollarcnt', 'yearbuilt', 'taxamount', 'fips'],\n",
       "      dtype='object')"
      ]
     },
     "execution_count": 5,
     "metadata": {},
     "output_type": "execute_result"
    }
   ],
   "source": [
    "train.columns"
   ]
  },
  {
   "cell_type": "markdown",
   "metadata": {},
   "source": [
    "### 2. Fit a linear regression model (ordinary least squares) and compute yhat, predictions of taxvaluedollarcnt using only calfulatedfinishedsqft."
   ]
  },
  {
   "cell_type": "code",
   "execution_count": 6,
   "metadata": {},
   "outputs": [],
   "source": [
    "train.drop(columns = ['bedroomcnt', 'bathroomcnt', 'yearbuilt', 'taxamount', 'fips'], inplace=True)"
   ]
  },
  {
   "cell_type": "code",
   "execution_count": 7,
   "metadata": {},
   "outputs": [],
   "source": [
    "X_train = train[['calculatedfinishedsquarefeet']]\n",
    "y_train = train['taxvaluedollarcnt']\n",
    "\n",
    "X_validate = validate[['calculatedfinishedsquarefeet']]\n",
    "y_validate = validate['taxvaluedollarcnt']\n",
    "\n",
    "X_test = test[['calculatedfinishedsquarefeet']]\n",
    "y_test = test['taxvaluedollarcnt']"
   ]
  },
  {
   "cell_type": "code",
   "execution_count": 8,
   "metadata": {},
   "outputs": [
    {
     "data": {
      "text/html": [
       "<div>\n",
       "<style scoped>\n",
       "    .dataframe tbody tr th:only-of-type {\n",
       "        vertical-align: middle;\n",
       "    }\n",
       "\n",
       "    .dataframe tbody tr th {\n",
       "        vertical-align: top;\n",
       "    }\n",
       "\n",
       "    .dataframe thead th {\n",
       "        text-align: right;\n",
       "    }\n",
       "</style>\n",
       "<table border=\"1\" class=\"dataframe\">\n",
       "  <thead>\n",
       "    <tr style=\"text-align: right;\">\n",
       "      <th></th>\n",
       "      <th>calculatedfinishedsquarefeet</th>\n",
       "    </tr>\n",
       "  </thead>\n",
       "  <tbody>\n",
       "    <tr>\n",
       "      <th>410426</th>\n",
       "      <td>1550</td>\n",
       "    </tr>\n",
       "    <tr>\n",
       "      <th>533217</th>\n",
       "      <td>1800</td>\n",
       "    </tr>\n",
       "    <tr>\n",
       "      <th>695362</th>\n",
       "      <td>1542</td>\n",
       "    </tr>\n",
       "    <tr>\n",
       "      <th>729442</th>\n",
       "      <td>1128</td>\n",
       "    </tr>\n",
       "    <tr>\n",
       "      <th>524897</th>\n",
       "      <td>396</td>\n",
       "    </tr>\n",
       "    <tr>\n",
       "      <th>...</th>\n",
       "      <td>...</td>\n",
       "    </tr>\n",
       "    <tr>\n",
       "      <th>81672</th>\n",
       "      <td>2460</td>\n",
       "    </tr>\n",
       "    <tr>\n",
       "      <th>806068</th>\n",
       "      <td>1191</td>\n",
       "    </tr>\n",
       "    <tr>\n",
       "      <th>703366</th>\n",
       "      <td>1755</td>\n",
       "    </tr>\n",
       "    <tr>\n",
       "      <th>798811</th>\n",
       "      <td>1188</td>\n",
       "    </tr>\n",
       "    <tr>\n",
       "      <th>1350688</th>\n",
       "      <td>2045</td>\n",
       "    </tr>\n",
       "  </tbody>\n",
       "</table>\n",
       "<p>1172966 rows × 1 columns</p>\n",
       "</div>"
      ],
      "text/plain": [
       "         calculatedfinishedsquarefeet\n",
       "410426                           1550\n",
       "533217                           1800\n",
       "695362                           1542\n",
       "729442                           1128\n",
       "524897                            396\n",
       "...                               ...\n",
       "81672                            2460\n",
       "806068                           1191\n",
       "703366                           1755\n",
       "798811                           1188\n",
       "1350688                          2045\n",
       "\n",
       "[1172966 rows x 1 columns]"
      ]
     },
     "execution_count": 8,
     "metadata": {},
     "output_type": "execute_result"
    }
   ],
   "source": [
    "X_train"
   ]
  },
  {
   "cell_type": "code",
   "execution_count": 9,
   "metadata": {},
   "outputs": [
    {
     "data": {
      "text/plain": [
       "410426     357034\n",
       "533217     287774\n",
       "695362     588738\n",
       "729442     290984\n",
       "524897      34541\n",
       "            ...  \n",
       "81672      463327\n",
       "806068     517777\n",
       "703366     478054\n",
       "798811      72975\n",
       "1350688    224263\n",
       "Name: taxvaluedollarcnt, Length: 1172966, dtype: int64"
      ]
     },
     "execution_count": 9,
     "metadata": {},
     "output_type": "execute_result"
    }
   ],
   "source": [
    "y_train"
   ]
  },
  {
   "cell_type": "code",
   "execution_count": 10,
   "metadata": {},
   "outputs": [
    {
     "data": {
      "text/plain": [
       "398734.9540404411"
      ]
     },
     "execution_count": 10,
     "metadata": {},
     "output_type": "execute_result"
    }
   ],
   "source": [
    "baseline = train.taxvaluedollarcnt.mean()\n",
    "baseline"
   ]
  },
  {
   "cell_type": "code",
   "execution_count": 11,
   "metadata": {},
   "outputs": [
    {
     "data": {
      "text/html": [
       "<div>\n",
       "<style scoped>\n",
       "    .dataframe tbody tr th:only-of-type {\n",
       "        vertical-align: middle;\n",
       "    }\n",
       "\n",
       "    .dataframe tbody tr th {\n",
       "        vertical-align: top;\n",
       "    }\n",
       "\n",
       "    .dataframe thead th {\n",
       "        text-align: right;\n",
       "    }\n",
       "</style>\n",
       "<table border=\"1\" class=\"dataframe\">\n",
       "  <thead>\n",
       "    <tr style=\"text-align: right;\">\n",
       "      <th></th>\n",
       "      <th>calculatedfinishedsquarefeet</th>\n",
       "      <th>taxvaluedollarcnt</th>\n",
       "      <th>baseline</th>\n",
       "    </tr>\n",
       "  </thead>\n",
       "  <tbody>\n",
       "    <tr>\n",
       "      <th>410426</th>\n",
       "      <td>1550</td>\n",
       "      <td>357034</td>\n",
       "      <td>398734.95404</td>\n",
       "    </tr>\n",
       "    <tr>\n",
       "      <th>533217</th>\n",
       "      <td>1800</td>\n",
       "      <td>287774</td>\n",
       "      <td>398734.95404</td>\n",
       "    </tr>\n",
       "    <tr>\n",
       "      <th>695362</th>\n",
       "      <td>1542</td>\n",
       "      <td>588738</td>\n",
       "      <td>398734.95404</td>\n",
       "    </tr>\n",
       "    <tr>\n",
       "      <th>729442</th>\n",
       "      <td>1128</td>\n",
       "      <td>290984</td>\n",
       "      <td>398734.95404</td>\n",
       "    </tr>\n",
       "    <tr>\n",
       "      <th>524897</th>\n",
       "      <td>396</td>\n",
       "      <td>34541</td>\n",
       "      <td>398734.95404</td>\n",
       "    </tr>\n",
       "  </tbody>\n",
       "</table>\n",
       "</div>"
      ],
      "text/plain": [
       "        calculatedfinishedsquarefeet  taxvaluedollarcnt      baseline\n",
       "410426                          1550             357034  398734.95404\n",
       "533217                          1800             287774  398734.95404\n",
       "695362                          1542             588738  398734.95404\n",
       "729442                          1128             290984  398734.95404\n",
       "524897                           396              34541  398734.95404"
      ]
     },
     "execution_count": 11,
     "metadata": {},
     "output_type": "execute_result"
    }
   ],
   "source": [
    "train['baseline'] = train.taxvaluedollarcnt.mean()\n",
    "train.head()"
   ]
  },
  {
   "cell_type": "code",
   "execution_count": 12,
   "metadata": {},
   "outputs": [
    {
     "data": {
      "image/png": "[encoded data removed]",
      "text/plain": [
       "<Figure size 432x288 with 1 Axes>"
      ]
     },
     "metadata": {
      "needs_background": "light"
     },
     "output_type": "display_data"
    }
   ],
   "source": [
    "# plot data with baseline:\n",
    "\n",
    "plt.scatter(train.calculatedfinishedsquarefeet, train.taxvaluedollarcnt)\n",
    "plt.axhline(train.taxvaluedollarcnt.mean(), ls = ':')\n",
    "plt.xlabel('x = Square Feet')\n",
    "plt.ylabel('y = Tax Assessed Value')\n",
    "plt.title('Baseline model');"
   ]
  },
  {
   "cell_type": "code",
   "execution_count": 13,
   "metadata": {},
   "outputs": [],
   "source": [
    "model = LinearRegression().fit(X_train, y_train)\n",
    "predictions = model.predict(X_train)"
   ]
  },
  {
   "cell_type": "code",
   "execution_count": 14,
   "metadata": {},
   "outputs": [],
   "source": [
    "train['yhat'] = predictions"
   ]
  },
  {
   "cell_type": "code",
   "execution_count": 15,
   "metadata": {},
   "outputs": [
    {
     "data": {
      "text/html": [
       "<div>\n",
       "<style scoped>\n",
       "    .dataframe tbody tr th:only-of-type {\n",
       "        vertical-align: middle;\n",
       "    }\n",
       "\n",
       "    .dataframe tbody tr th {\n",
       "        vertical-align: top;\n",
       "    }\n",
       "\n",
       "    .dataframe thead th {\n",
       "        text-align: right;\n",
       "    }\n",
       "</style>\n",
       "<table border=\"1\" class=\"dataframe\">\n",
       "  <thead>\n",
       "    <tr style=\"text-align: right;\">\n",
       "      <th></th>\n",
       "      <th>calculatedfinishedsquarefeet</th>\n",
       "      <th>taxvaluedollarcnt</th>\n",
       "      <th>baseline</th>\n",
       "      <th>yhat</th>\n",
       "    </tr>\n",
       "  </thead>\n",
       "  <tbody>\n",
       "    <tr>\n",
       "      <th>410426</th>\n",
       "      <td>1550</td>\n",
       "      <td>357034</td>\n",
       "      <td>398734.95404</td>\n",
       "      <td>357264.612498</td>\n",
       "    </tr>\n",
       "    <tr>\n",
       "      <th>533217</th>\n",
       "      <td>1800</td>\n",
       "      <td>287774</td>\n",
       "      <td>398734.95404</td>\n",
       "      <td>399104.649483</td>\n",
       "    </tr>\n",
       "    <tr>\n",
       "      <th>695362</th>\n",
       "      <td>1542</td>\n",
       "      <td>588738</td>\n",
       "      <td>398734.95404</td>\n",
       "      <td>355925.731315</td>\n",
       "    </tr>\n",
       "    <tr>\n",
       "      <th>729442</th>\n",
       "      <td>1128</td>\n",
       "      <td>290984</td>\n",
       "      <td>398734.95404</td>\n",
       "      <td>286638.630067</td>\n",
       "    </tr>\n",
       "    <tr>\n",
       "      <th>524897</th>\n",
       "      <td>396</td>\n",
       "      <td>34541</td>\n",
       "      <td>398734.95404</td>\n",
       "      <td>164131.001774</td>\n",
       "    </tr>\n",
       "  </tbody>\n",
       "</table>\n",
       "</div>"
      ],
      "text/plain": [
       "        calculatedfinishedsquarefeet  taxvaluedollarcnt      baseline  \\\n",
       "410426                          1550             357034  398734.95404   \n",
       "533217                          1800             287774  398734.95404   \n",
       "695362                          1542             588738  398734.95404   \n",
       "729442                          1128             290984  398734.95404   \n",
       "524897                           396              34541  398734.95404   \n",
       "\n",
       "                 yhat  \n",
       "410426  357264.612498  \n",
       "533217  399104.649483  \n",
       "695362  355925.731315  \n",
       "729442  286638.630067  \n",
       "524897  164131.001774  "
      ]
     },
     "execution_count": 15,
     "metadata": {},
     "output_type": "execute_result"
    }
   ],
   "source": [
    "train.head()"
   ]
  },
  {
   "cell_type": "code",
   "execution_count": 16,
   "metadata": {},
   "outputs": [
    {
     "data": {
      "image/png": "[encoded data removed]",
      "text/plain": [
       "<Figure size 432x288 with 1 Axes>"
      ]
     },
     "metadata": {
      "needs_background": "light"
     },
     "output_type": "display_data"
    }
   ],
   "source": [
    "# visualize the line of best fit from OLS linear model\n",
    "plt.scatter(train.calculatedfinishedsquarefeet, train.taxvaluedollarcnt)\n",
    "plt.plot(train.calculatedfinishedsquarefeet, train.yhat)\n",
    "plt.xlabel('x = Square Feet')\n",
    "plt.ylabel('y = Tax Assessed Value')\n",
    "plt.title('OLS linear model');"
   ]
  },
  {
   "cell_type": "markdown",
   "metadata": {},
   "source": [
    "### 3. Plot the residuals for the linear regression model that you made."
   ]
  },
  {
   "cell_type": "code",
   "execution_count": 17,
   "metadata": {},
   "outputs": [
    {
     "data": {
      "text/html": [
       "<div>\n",
       "<style scoped>\n",
       "    .dataframe tbody tr th:only-of-type {\n",
       "        vertical-align: middle;\n",
       "    }\n",
       "\n",
       "    .dataframe tbody tr th {\n",
       "        vertical-align: top;\n",
       "    }\n",
       "\n",
       "    .dataframe thead th {\n",
       "        text-align: right;\n",
       "    }\n",
       "</style>\n",
       "<table border=\"1\" class=\"dataframe\">\n",
       "  <thead>\n",
       "    <tr style=\"text-align: right;\">\n",
       "      <th></th>\n",
       "      <th>calculatedfinishedsquarefeet</th>\n",
       "      <th>taxvaluedollarcnt</th>\n",
       "      <th>baseline</th>\n",
       "      <th>yhat</th>\n",
       "    </tr>\n",
       "  </thead>\n",
       "  <tbody>\n",
       "    <tr>\n",
       "      <th>410426</th>\n",
       "      <td>1550</td>\n",
       "      <td>357034</td>\n",
       "      <td>398734.95404</td>\n",
       "      <td>357264.612498</td>\n",
       "    </tr>\n",
       "    <tr>\n",
       "      <th>533217</th>\n",
       "      <td>1800</td>\n",
       "      <td>287774</td>\n",
       "      <td>398734.95404</td>\n",
       "      <td>399104.649483</td>\n",
       "    </tr>\n",
       "    <tr>\n",
       "      <th>695362</th>\n",
       "      <td>1542</td>\n",
       "      <td>588738</td>\n",
       "      <td>398734.95404</td>\n",
       "      <td>355925.731315</td>\n",
       "    </tr>\n",
       "    <tr>\n",
       "      <th>729442</th>\n",
       "      <td>1128</td>\n",
       "      <td>290984</td>\n",
       "      <td>398734.95404</td>\n",
       "      <td>286638.630067</td>\n",
       "    </tr>\n",
       "    <tr>\n",
       "      <th>524897</th>\n",
       "      <td>396</td>\n",
       "      <td>34541</td>\n",
       "      <td>398734.95404</td>\n",
       "      <td>164131.001774</td>\n",
       "    </tr>\n",
       "  </tbody>\n",
       "</table>\n",
       "</div>"
      ],
      "text/plain": [
       "        calculatedfinishedsquarefeet  taxvaluedollarcnt      baseline  \\\n",
       "410426                          1550             357034  398734.95404   \n",
       "533217                          1800             287774  398734.95404   \n",
       "695362                          1542             588738  398734.95404   \n",
       "729442                          1128             290984  398734.95404   \n",
       "524897                           396              34541  398734.95404   \n",
       "\n",
       "                 yhat  \n",
       "410426  357264.612498  \n",
       "533217  399104.649483  \n",
       "695362  355925.731315  \n",
       "729442  286638.630067  \n",
       "524897  164131.001774  "
      ]
     },
     "execution_count": 17,
     "metadata": {},
     "output_type": "execute_result"
    }
   ],
   "source": [
    "train.head()"
   ]
  },
  {
   "cell_type": "code",
   "execution_count": 18,
   "metadata": {},
   "outputs": [],
   "source": [
    "# residual = actual - predicted\n",
    "train['residual'] = train.taxvaluedollarcnt - train.yhat\n",
    "train['baseline_residual'] = train.taxvaluedollarcnt - train.baseline"
   ]
  },
  {
   "cell_type": "code",
   "execution_count": 19,
   "metadata": {},
   "outputs": [
    {
     "data": {
      "text/html": [
       "<div>\n",
       "<style scoped>\n",
       "    .dataframe tbody tr th:only-of-type {\n",
       "        vertical-align: middle;\n",
       "    }\n",
       "\n",
       "    .dataframe tbody tr th {\n",
       "        vertical-align: top;\n",
       "    }\n",
       "\n",
       "    .dataframe thead th {\n",
       "        text-align: right;\n",
       "    }\n",
       "</style>\n",
       "<table border=\"1\" class=\"dataframe\">\n",
       "  <thead>\n",
       "    <tr style=\"text-align: right;\">\n",
       "      <th></th>\n",
       "      <th>calculatedfinishedsquarefeet</th>\n",
       "      <th>taxvaluedollarcnt</th>\n",
       "      <th>baseline</th>\n",
       "      <th>yhat</th>\n",
       "      <th>residual</th>\n",
       "      <th>baseline_residual</th>\n",
       "    </tr>\n",
       "  </thead>\n",
       "  <tbody>\n",
       "    <tr>\n",
       "      <th>410426</th>\n",
       "      <td>1550</td>\n",
       "      <td>357034</td>\n",
       "      <td>398734.95404</td>\n",
       "      <td>357264.612498</td>\n",
       "      <td>-230.612498</td>\n",
       "      <td>-41700.95404</td>\n",
       "    </tr>\n",
       "    <tr>\n",
       "      <th>533217</th>\n",
       "      <td>1800</td>\n",
       "      <td>287774</td>\n",
       "      <td>398734.95404</td>\n",
       "      <td>399104.649483</td>\n",
       "      <td>-111330.649483</td>\n",
       "      <td>-110960.95404</td>\n",
       "    </tr>\n",
       "    <tr>\n",
       "      <th>695362</th>\n",
       "      <td>1542</td>\n",
       "      <td>588738</td>\n",
       "      <td>398734.95404</td>\n",
       "      <td>355925.731315</td>\n",
       "      <td>232812.268685</td>\n",
       "      <td>190003.04596</td>\n",
       "    </tr>\n",
       "    <tr>\n",
       "      <th>729442</th>\n",
       "      <td>1128</td>\n",
       "      <td>290984</td>\n",
       "      <td>398734.95404</td>\n",
       "      <td>286638.630067</td>\n",
       "      <td>4345.369933</td>\n",
       "      <td>-107750.95404</td>\n",
       "    </tr>\n",
       "    <tr>\n",
       "      <th>524897</th>\n",
       "      <td>396</td>\n",
       "      <td>34541</td>\n",
       "      <td>398734.95404</td>\n",
       "      <td>164131.001774</td>\n",
       "      <td>-129590.001774</td>\n",
       "      <td>-364193.95404</td>\n",
       "    </tr>\n",
       "  </tbody>\n",
       "</table>\n",
       "</div>"
      ],
      "text/plain": [
       "        calculatedfinishedsquarefeet  taxvaluedollarcnt      baseline  \\\n",
       "410426                          1550             357034  398734.95404   \n",
       "533217                          1800             287774  398734.95404   \n",
       "695362                          1542             588738  398734.95404   \n",
       "729442                          1128             290984  398734.95404   \n",
       "524897                           396              34541  398734.95404   \n",
       "\n",
       "                 yhat       residual  baseline_residual  \n",
       "410426  357264.612498    -230.612498       -41700.95404  \n",
       "533217  399104.649483 -111330.649483      -110960.95404  \n",
       "695362  355925.731315  232812.268685       190003.04596  \n",
       "729442  286638.630067    4345.369933      -107750.95404  \n",
       "524897  164131.001774 -129590.001774      -364193.95404  "
      ]
     },
     "execution_count": 19,
     "metadata": {},
     "output_type": "execute_result"
    }
   ],
   "source": [
    "train.head()"
   ]
  },
  {
   "cell_type": "markdown",
   "metadata": {},
   "source": [
    "Negative Residual = Prediction too high\n",
    "\n",
    "Positive Residual = Prediction too low"
   ]
  },
  {
   "cell_type": "code",
   "execution_count": 20,
   "metadata": {
    "scrolled": true
   },
   "outputs": [
    {
     "data": {
      "image/png": "[encoded data removed]",
      "text/plain": [
       "<Figure size 792x360 with 2 Axes>"
      ]
     },
     "metadata": {
      "needs_background": "light"
     },
     "output_type": "display_data"
    }
   ],
   "source": [
    "# residual plots (x vs residual)\n",
    "\n",
    "plt.figure(figsize = (11,5))\n",
    "\n",
    "plt.subplot(121)\n",
    "plt.scatter(train.calculatedfinishedsquarefeet, train.baseline_residual)\n",
    "plt.axhline(y = 0, ls = ':', color='red')\n",
    "plt.xlabel('Square Feet')\n",
    "plt.ylabel('Residual')\n",
    "plt.title('Baseline Residuals')\n",
    "\n",
    "plt.subplot(122)\n",
    "plt.scatter(train.calculatedfinishedsquarefeet, train.residual)\n",
    "plt.axhline(y = 0, ls = ':', color ='red')\n",
    "plt.xlabel('Square Feet')\n",
    "plt.ylabel('Residual')\n",
    "plt.title('OLS model residuals');"
   ]
  },
  {
   "cell_type": "code",
   "execution_count": 21,
   "metadata": {},
   "outputs": [],
   "source": [
    "baseline_residual_min = train.baseline_residual.min()\n",
    "baseline_residual_max = train.baseline_residual.max()\n",
    "residual_min = train.residual.min()\n",
    "residual_max = train.residual.max()"
   ]
  },
  {
   "cell_type": "code",
   "execution_count": 22,
   "metadata": {},
   "outputs": [
    {
     "data": {
      "text/plain": [
       "(-88611467.43732077, 1811275.480888729)"
      ]
     },
     "execution_count": 22,
     "metadata": {},
     "output_type": "execute_result"
    }
   ],
   "source": [
    "residual_min, residual_max"
   ]
  },
  {
   "cell_type": "code",
   "execution_count": 23,
   "metadata": {},
   "outputs": [
    {
     "name": "stdout",
     "output_type": "stream",
     "text": [
      "Negative Residual = Prediction too high\n",
      "Positive Residual = Prediction too low\n"
     ]
    },
    {
     "data": {
      "image/png": "[encoded data removed]",
      "text/plain": [
       "<Figure size 792x360 with 2 Axes>"
      ]
     },
     "metadata": {
      "needs_background": "light"
     },
     "output_type": "display_data"
    }
   ],
   "source": [
    "# residual plots (x vs residual)\n",
    "\n",
    "plt.figure(figsize = (11,5))\n",
    "\n",
    "plt.subplot(121)\n",
    "plt.scatter(train.calculatedfinishedsquarefeet, train.baseline_residual, alpha=.05)\n",
    "plt.axhline(y = 0, ls = ':', color = 'red')\n",
    "plt.xlim(0,5000)\n",
    "plt.ylim(baseline_residual_min, baseline_residual_max)\n",
    "plt.xlabel('Square Feet')\n",
    "plt.ylabel('Residual')\n",
    "plt.title('Baseline Residuals')\n",
    "\n",
    "plt.subplot(122)\n",
    "plt.scatter(train.calculatedfinishedsquarefeet, train.residual, alpha=0.05)\n",
    "plt.axhline(y = 0, ls = ':', color ='red')\n",
    "plt.xlim(0,5000)\n",
    "plt.ylim(-1_000_000, residual_max)\n",
    "plt.xlabel('Square Feet')\n",
    "plt.ylabel('Residual')\n",
    "plt.title('OLS model residuals')\n",
    "print(\"Negative Residual = Prediction too high\")\n",
    "print(\"Positive Residual = Prediction too low\")"
   ]
  },
  {
   "cell_type": "markdown",
   "metadata": {},
   "source": [
    "#### Takeaway:\n",
    "- Presence of a slope in the residual plot suggests the need for additional predictors"
   ]
  },
  {
   "cell_type": "code",
   "execution_count": 24,
   "metadata": {},
   "outputs": [
    {
     "data": {
      "image/png": "[encoded data removed]",
      "text/plain": [
       "<Figure size 432x288 with 1 Axes>"
      ]
     },
     "metadata": {
      "needs_background": "light"
     },
     "output_type": "display_data"
    }
   ],
   "source": [
    "# Residual plot (y vs residual)\n",
    "actual = train.taxvaluedollarcnt\n",
    "predicted = train.yhat\n",
    "residuals = actual - predicted\n",
    "plt.hlines(0, actual.min(), actual.max(), ls=':')\n",
    "plt.scatter(actual, residuals)\n",
    "plt.ylabel('residual ($y - \\hat{y}$)')\n",
    "plt.xlabel('actual value ($y$)')\n",
    "plt.title('Actual vs Residual')\n",
    "plt.show()"
   ]
  },
  {
   "cell_type": "markdown",
   "metadata": {},
   "source": [
    "### 4. Calculate the sum of squared errors, explained sum of squares, total sum of squares, mean squared error, and root mean squared error for your model.\n",
    "\n",
    "### 5. Calculate the sum of squared errors, mean squared error, and root mean squared error for the baseline model (i.e. a model that always predicts the average taxvaluedollarcnt amount)."
   ]
  },
  {
   "cell_type": "code",
   "execution_count": 25,
   "metadata": {
    "scrolled": true
   },
   "outputs": [
    {
     "data": {
      "text/html": [
       "<div>\n",
       "<style scoped>\n",
       "    .dataframe tbody tr th:only-of-type {\n",
       "        vertical-align: middle;\n",
       "    }\n",
       "\n",
       "    .dataframe tbody tr th {\n",
       "        vertical-align: top;\n",
       "    }\n",
       "\n",
       "    .dataframe thead th {\n",
       "        text-align: right;\n",
       "    }\n",
       "</style>\n",
       "<table border=\"1\" class=\"dataframe\">\n",
       "  <thead>\n",
       "    <tr style=\"text-align: right;\">\n",
       "      <th></th>\n",
       "      <th>calculatedfinishedsquarefeet</th>\n",
       "      <th>taxvaluedollarcnt</th>\n",
       "      <th>baseline</th>\n",
       "      <th>yhat</th>\n",
       "      <th>residual</th>\n",
       "      <th>baseline_residual</th>\n",
       "      <th>residual^2</th>\n",
       "      <th>baseline_residual^2</th>\n",
       "    </tr>\n",
       "  </thead>\n",
       "  <tbody>\n",
       "    <tr>\n",
       "      <th>410426</th>\n",
       "      <td>1550</td>\n",
       "      <td>357034</td>\n",
       "      <td>398734.95404</td>\n",
       "      <td>357264.612498</td>\n",
       "      <td>-230.612498</td>\n",
       "      <td>-41700.95404</td>\n",
       "      <td>5.318212e+04</td>\n",
       "      <td>1.738970e+09</td>\n",
       "    </tr>\n",
       "    <tr>\n",
       "      <th>533217</th>\n",
       "      <td>1800</td>\n",
       "      <td>287774</td>\n",
       "      <td>398734.95404</td>\n",
       "      <td>399104.649483</td>\n",
       "      <td>-111330.649483</td>\n",
       "      <td>-110960.95404</td>\n",
       "      <td>1.239451e+10</td>\n",
       "      <td>1.231233e+10</td>\n",
       "    </tr>\n",
       "    <tr>\n",
       "      <th>695362</th>\n",
       "      <td>1542</td>\n",
       "      <td>588738</td>\n",
       "      <td>398734.95404</td>\n",
       "      <td>355925.731315</td>\n",
       "      <td>232812.268685</td>\n",
       "      <td>190003.04596</td>\n",
       "      <td>5.420155e+10</td>\n",
       "      <td>3.610116e+10</td>\n",
       "    </tr>\n",
       "    <tr>\n",
       "      <th>729442</th>\n",
       "      <td>1128</td>\n",
       "      <td>290984</td>\n",
       "      <td>398734.95404</td>\n",
       "      <td>286638.630067</td>\n",
       "      <td>4345.369933</td>\n",
       "      <td>-107750.95404</td>\n",
       "      <td>1.888224e+07</td>\n",
       "      <td>1.161027e+10</td>\n",
       "    </tr>\n",
       "    <tr>\n",
       "      <th>524897</th>\n",
       "      <td>396</td>\n",
       "      <td>34541</td>\n",
       "      <td>398734.95404</td>\n",
       "      <td>164131.001774</td>\n",
       "      <td>-129590.001774</td>\n",
       "      <td>-364193.95404</td>\n",
       "      <td>1.679357e+10</td>\n",
       "      <td>1.326372e+11</td>\n",
       "    </tr>\n",
       "  </tbody>\n",
       "</table>\n",
       "</div>"
      ],
      "text/plain": [
       "        calculatedfinishedsquarefeet  taxvaluedollarcnt      baseline  \\\n",
       "410426                          1550             357034  398734.95404   \n",
       "533217                          1800             287774  398734.95404   \n",
       "695362                          1542             588738  398734.95404   \n",
       "729442                          1128             290984  398734.95404   \n",
       "524897                           396              34541  398734.95404   \n",
       "\n",
       "                 yhat       residual  baseline_residual    residual^2  \\\n",
       "410426  357264.612498    -230.612498       -41700.95404  5.318212e+04   \n",
       "533217  399104.649483 -111330.649483      -110960.95404  1.239451e+10   \n",
       "695362  355925.731315  232812.268685       190003.04596  5.420155e+10   \n",
       "729442  286638.630067    4345.369933      -107750.95404  1.888224e+07   \n",
       "524897  164131.001774 -129590.001774      -364193.95404  1.679357e+10   \n",
       "\n",
       "        baseline_residual^2  \n",
       "410426         1.738970e+09  \n",
       "533217         1.231233e+10  \n",
       "695362         3.610116e+10  \n",
       "729442         1.161027e+10  \n",
       "524897         1.326372e+11  "
      ]
     },
     "execution_count": 25,
     "metadata": {},
     "output_type": "execute_result"
    }
   ],
   "source": [
    "train['residual^2'] = train.residual**2\n",
    "train['baseline_residual^2'] = train.baseline_residual**2\n",
    "\n",
    "train.head()"
   ]
  },
  {
   "cell_type": "markdown",
   "metadata": {},
   "source": [
    "#### Calculating SSE"
   ]
  },
  {
   "cell_type": "code",
   "execution_count": 26,
   "metadata": {},
   "outputs": [
    {
     "name": "stdout",
     "output_type": "stream",
     "text": [
      "SSE = 86976467113804000.0\n",
      "SSE Baseline = 115464233692208544.0\n"
     ]
    }
   ],
   "source": [
    "SSE = train['residual^2'].sum()\n",
    "SSE_baseline = train['baseline_residual^2'].sum()\n",
    "\n",
    "print('SSE =', \"{:.1f}\".format(SSE))\n",
    "print(\"SSE Baseline =\", \"{:.1f}\".format(SSE_baseline))"
   ]
  },
  {
   "cell_type": "code",
   "execution_count": 27,
   "metadata": {},
   "outputs": [
    {
     "data": {
      "text/plain": [
       "True"
      ]
     },
     "execution_count": 27,
     "metadata": {},
     "output_type": "execute_result"
    }
   ],
   "source": [
    "SSE < SSE_baseline"
   ]
  },
  {
   "cell_type": "markdown",
   "metadata": {},
   "source": [
    "#### Calculating MSE"
   ]
  },
  {
   "cell_type": "code",
   "execution_count": 28,
   "metadata": {},
   "outputs": [
    {
     "data": {
      "text/plain": [
       "1172966"
      ]
     },
     "execution_count": 28,
     "metadata": {},
     "output_type": "execute_result"
    }
   ],
   "source": [
    "len(train)\n",
    "train.shape[0]"
   ]
  },
  {
   "cell_type": "code",
   "execution_count": 29,
   "metadata": {},
   "outputs": [
    {
     "name": "stdout",
     "output_type": "stream",
     "text": [
      "MSE =  74150885118.4\n",
      "MSE baseline =  98437835105.4\n"
     ]
    }
   ],
   "source": [
    "MSE = SSE/len(train)\n",
    "MSE_baseline = SSE_baseline/len(train)\n",
    "\n",
    "print(\"MSE = \", \"{:.1f}\".format(MSE))\n",
    "print(\"MSE baseline = \", \"{:.1f}\".format(MSE_baseline))"
   ]
  },
  {
   "cell_type": "markdown",
   "metadata": {},
   "source": [
    "#### Calculating RMSE"
   ]
  },
  {
   "cell_type": "code",
   "execution_count": 30,
   "metadata": {},
   "outputs": [
    {
     "name": "stdout",
     "output_type": "stream",
     "text": [
      "RMSE =  272306.6\n",
      "RMSE baseline =  313748.0\n"
     ]
    }
   ],
   "source": [
    "from math import sqrt\n",
    "RMSE = sqrt(MSE)\n",
    "RMSE_baseline =  sqrt(MSE_baseline)\n",
    "\n",
    "\n",
    "print(\"RMSE = \", \"{:.1f}\".format(RMSE))\n",
    "print(\"RMSE baseline = \", \"{:.1f}\".format(RMSE_baseline))"
   ]
  },
  {
   "cell_type": "markdown",
   "metadata": {},
   "source": [
    "### 6. Write python code that compares the sum of squared errors for your model against the sum of squared errors for the baseline model and outputs whether or not your model performs better than the baseline model."
   ]
  },
  {
   "cell_type": "code",
   "execution_count": 31,
   "metadata": {},
   "outputs": [
    {
     "name": "stdout",
     "output_type": "stream",
     "text": [
      "OLS Regression Model Performs Better than Baseline\n"
     ]
    }
   ],
   "source": [
    "if SSE < SSE_baseline:\n",
    "    print('OLS Regression Model Performs Better than Baseline')\n",
    "else:\n",
    "    print('OLS Regression Model Performs Worse than Baseline')"
   ]
  },
  {
   "cell_type": "markdown",
   "metadata": {},
   "source": [
    "### 7. What is the amount of variance explained in your model?"
   ]
  },
  {
   "cell_type": "code",
   "execution_count": 32,
   "metadata": {},
   "outputs": [
    {
     "data": {
      "text/plain": [
       "0.2467237313880591"
      ]
     },
     "execution_count": 32,
     "metadata": {},
     "output_type": "execute_result"
    }
   ],
   "source": [
    "# calculate R2 manually:\n",
    "\n",
    "# Total Sum of Squares = SSE for baseline\n",
    "TSS = SSE_baseline = train['baseline_residual^2'].sum()\n",
    "\n",
    "# Sum of squared error for the regression line (Unexplained error)\n",
    "SSE = train['residual^2'].sum()\n",
    "\n",
    "# ESS - Explained sum of squares ('Explained Error')\n",
    "ESS = TSS - SSE\n",
    "\n",
    "# Calculate R2\n",
    "R2 = ESS/TSS\n",
    "R2"
   ]
  },
  {
   "cell_type": "code",
   "execution_count": 33,
   "metadata": {},
   "outputs": [
    {
     "data": {
      "text/plain": [
       "0.24672373138805914"
      ]
     },
     "execution_count": 33,
     "metadata": {},
     "output_type": "execute_result"
    }
   ],
   "source": [
    "# calculate R2 the easy way:\n",
    "\n",
    "from sklearn.metrics import r2_score\n",
    "r2_score(train.taxvaluedollarcnt, train.yhat)"
   ]
  },
  {
   "cell_type": "markdown",
   "metadata": {},
   "source": [
    "### Is your model better than the baseline model?"
   ]
  },
  {
   "cell_type": "code",
   "execution_count": 34,
   "metadata": {},
   "outputs": [
    {
     "name": "stdout",
     "output_type": "stream",
     "text": [
      "                            OLS Regression Results                            \n",
      "==============================================================================\n",
      "Dep. Variable:      taxvaluedollarcnt   R-squared:                       0.247\n",
      "Model:                            OLS   Adj. R-squared:                  0.247\n",
      "Method:                 Least Squares   F-statistic:                 3.842e+05\n",
      "Date:                Fri, 03 Jun 2022   Prob (F-statistic):               0.00\n",
      "Time:                        14:14:49   Log-Likelihood:            -1.6344e+07\n",
      "No. Observations:             1172966   AIC:                         3.269e+07\n",
      "Df Residuals:                 1172964   BIC:                         3.269e+07\n",
      "Df Model:                           1                                         \n",
      "Covariance Type:            nonrobust                                         \n",
      "================================================================================================\n",
      "                                   coef    std err          t      P>|t|      [0.025      0.975]\n",
      "------------------------------------------------------------------------------------------------\n",
      "const                         9.786e+04    546.674    179.003      0.000    9.68e+04    9.89e+04\n",
      "calculatedfinishedsquarefeet   167.3601      0.270    619.827      0.000     166.831     167.889\n",
      "==============================================================================\n",
      "Omnibus:                  3035304.625   Durbin-Watson:                   2.001\n",
      "Prob(Omnibus):                  0.000   Jarque-Bera (JB):    4471011407011.746\n",
      "Skew:                         -28.054   Prob(JB):                         0.00\n",
      "Kurtosis:                    9567.413   Cond. No.                     4.40e+03\n",
      "==============================================================================\n",
      "\n",
      "Notes:\n",
      "[1] Standard Errors assume that the covariance matrix of the errors is correctly specified.\n",
      "[2] The condition number is large, 4.4e+03. This might indicate that there are\n",
      "strong multicollinearity or other numerical problems.\n"
     ]
    }
   ],
   "source": [
    "X2 = sm.add_constant(train.calculatedfinishedsquarefeet)\n",
    "est = sm.OLS(train.taxvaluedollarcnt, X2)\n",
    "est2 = est.fit()\n",
    "print(est2.summary())"
   ]
  },
  {
   "cell_type": "markdown",
   "metadata": {},
   "source": [
    "- OLS Regression Model outperformed baseline model on test using RMSE as evaluation metric\n",
    "    - OLS Regression Model RMSE: 272306.6\n",
    "    - Baseline Regression Model: 313748.0\n",
    "    \n",
    "However, overall the OLS Regression Model does a poor job of evaluating home price. The dollar amount of error would be unacceptable to any buyer/seller. "
   ]
  },
  {
   "cell_type": "markdown",
   "metadata": {},
   "source": [
    "### 9. Create a file named evaluate.py that contains the following functions."
   ]
  },
  {
   "cell_type": "code",
   "execution_count": 35,
   "metadata": {},
   "outputs": [],
   "source": [
    "def plot_residuals(actual, predicted):\n",
    "    residuals = actual - predicted\n",
    "    plt.hlines(0, actual.min(), actual.max(), ls=':')\n",
    "    plt.scatter(actual, residuals)\n",
    "    plt.ylabel('residual ($y - \\hat{y}$)')\n",
    "    plt.xlabel('actual value ($y$)')\n",
    "    plt.title('Actual vs Residual')\n",
    "    plt.show()"
   ]
  },
  {
   "cell_type": "code",
   "execution_count": 36,
   "metadata": {},
   "outputs": [],
   "source": [
    "def residuals(actual, predicted):\n",
    "    return actual - predicted\n",
    "\n",
    "def sse(actual, predicted):\n",
    "    return (residuals(actual, predicted) **2).sum()\n",
    "\n",
    "def mse(actual, predicted):\n",
    "    n = actual.shape[0]\n",
    "    return sse(actual, predicted) / n\n",
    "\n",
    "def rmse(actual, predicted):\n",
    "    return math.sqrt(mse(actual, predicted))\n",
    "\n",
    "def ess(actual, predicted):\n",
    "    return ((predicted - actual.mean()) ** 2).sum()\n",
    "\n",
    "def tss(actual):\n",
    "    return ((actual - actual.mean()) ** 2).sum()\n",
    "\n",
    "def r2_score(actual, predicted):\n",
    "    return ess(actual, predicted) / tss(actual)"
   ]
  },
  {
   "cell_type": "code",
   "execution_count": 37,
   "metadata": {},
   "outputs": [],
   "source": [
    "def regression_errors(actual, predicted):\n",
    "    return pd.Series({\n",
    "        'sse': sse(actual, predicted),\n",
    "        'ess': ess(actual, predicted),\n",
    "        'tss': tss(actual),\n",
    "        'mse': mse(actual, predicted),\n",
    "        'rmse': rmse(actual, predicted),\n",
    "    })\n",
    "\n",
    "def baseline_mean_errors(actual):\n",
    "    predicted = actual.mean()\n",
    "    return {\n",
    "        'sse': sse(actual, predicted),\n",
    "        'mse': mse(actual, predicted),\n",
    "        'rmse': rmse(actual, predicted),\n",
    "    }\n",
    "\n",
    "def better_than_baseline(actual, predicted):\n",
    "    rmse_baseline = rmse(actual, actual.mean())\n",
    "    rmse_model = rmse(actual, predicted)\n",
    "    return rmse_model < rmse_baseline\n"
   ]
  },
  {
   "cell_type": "markdown",
   "metadata": {},
   "source": [
    "### B1. Load the tips dataset from either pydataset or seaborn. Fit a linear regression model (ordinary least squares) and compute yhat, predictions of tip using total_bill."
   ]
  },
  {
   "cell_type": "code",
   "execution_count": 38,
   "metadata": {},
   "outputs": [
    {
     "data": {
      "text/html": [
       "<div>\n",
       "<style scoped>\n",
       "    .dataframe tbody tr th:only-of-type {\n",
       "        vertical-align: middle;\n",
       "    }\n",
       "\n",
       "    .dataframe tbody tr th {\n",
       "        vertical-align: top;\n",
       "    }\n",
       "\n",
       "    .dataframe thead th {\n",
       "        text-align: right;\n",
       "    }\n",
       "</style>\n",
       "<table border=\"1\" class=\"dataframe\">\n",
       "  <thead>\n",
       "    <tr style=\"text-align: right;\">\n",
       "      <th></th>\n",
       "      <th>total_bill</th>\n",
       "      <th>tip</th>\n",
       "      <th>sex</th>\n",
       "      <th>smoker</th>\n",
       "      <th>day</th>\n",
       "      <th>time</th>\n",
       "      <th>size</th>\n",
       "    </tr>\n",
       "  </thead>\n",
       "  <tbody>\n",
       "    <tr>\n",
       "      <th>1</th>\n",
       "      <td>16.99</td>\n",
       "      <td>1.01</td>\n",
       "      <td>Female</td>\n",
       "      <td>No</td>\n",
       "      <td>Sun</td>\n",
       "      <td>Dinner</td>\n",
       "      <td>2</td>\n",
       "    </tr>\n",
       "    <tr>\n",
       "      <th>2</th>\n",
       "      <td>10.34</td>\n",
       "      <td>1.66</td>\n",
       "      <td>Male</td>\n",
       "      <td>No</td>\n",
       "      <td>Sun</td>\n",
       "      <td>Dinner</td>\n",
       "      <td>3</td>\n",
       "    </tr>\n",
       "    <tr>\n",
       "      <th>3</th>\n",
       "      <td>21.01</td>\n",
       "      <td>3.50</td>\n",
       "      <td>Male</td>\n",
       "      <td>No</td>\n",
       "      <td>Sun</td>\n",
       "      <td>Dinner</td>\n",
       "      <td>3</td>\n",
       "    </tr>\n",
       "    <tr>\n",
       "      <th>4</th>\n",
       "      <td>23.68</td>\n",
       "      <td>3.31</td>\n",
       "      <td>Male</td>\n",
       "      <td>No</td>\n",
       "      <td>Sun</td>\n",
       "      <td>Dinner</td>\n",
       "      <td>2</td>\n",
       "    </tr>\n",
       "    <tr>\n",
       "      <th>5</th>\n",
       "      <td>24.59</td>\n",
       "      <td>3.61</td>\n",
       "      <td>Female</td>\n",
       "      <td>No</td>\n",
       "      <td>Sun</td>\n",
       "      <td>Dinner</td>\n",
       "      <td>4</td>\n",
       "    </tr>\n",
       "  </tbody>\n",
       "</table>\n",
       "</div>"
      ],
      "text/plain": [
       "   total_bill   tip     sex smoker  day    time  size\n",
       "1       16.99  1.01  Female     No  Sun  Dinner     2\n",
       "2       10.34  1.66    Male     No  Sun  Dinner     3\n",
       "3       21.01  3.50    Male     No  Sun  Dinner     3\n",
       "4       23.68  3.31    Male     No  Sun  Dinner     2\n",
       "5       24.59  3.61  Female     No  Sun  Dinner     4"
      ]
     },
     "execution_count": 38,
     "metadata": {},
     "output_type": "execute_result"
    }
   ],
   "source": [
    "from pydataset import data\n",
    "\n",
    "tips = data('tips')\n",
    "tips.head()"
   ]
  },
  {
   "cell_type": "code",
   "execution_count": 39,
   "metadata": {},
   "outputs": [
    {
     "name": "stdout",
     "output_type": "stream",
     "text": [
      "<class 'pandas.core.frame.DataFrame'>\n",
      "Int64Index: 244 entries, 1 to 244\n",
      "Data columns (total 7 columns):\n",
      " #   Column      Non-Null Count  Dtype  \n",
      "---  ------      --------------  -----  \n",
      " 0   total_bill  244 non-null    float64\n",
      " 1   tip         244 non-null    float64\n",
      " 2   sex         244 non-null    object \n",
      " 3   smoker      244 non-null    object \n",
      " 4   day         244 non-null    object \n",
      " 5   time        244 non-null    object \n",
      " 6   size        244 non-null    int64  \n",
      "dtypes: float64(2), int64(1), object(4)\n",
      "memory usage: 15.2+ KB\n"
     ]
    }
   ],
   "source": [
    "tips.info()"
   ]
  },
  {
   "cell_type": "markdown",
   "metadata": {},
   "source": [
    "2. Fit a linear regression model (ordinary least squares) and compute yhat, predictions of tip using total_bill.\n",
    "\n"
   ]
  },
  {
   "cell_type": "code",
   "execution_count": 40,
   "metadata": {},
   "outputs": [],
   "source": [
    "# create the model object\n",
    "lm = LinearRegression(normalize=True)\n",
    "\n",
    "# fit the model to trainig data\n",
    "lm.fit(tips[['total_bill']], tips.tip)\n",
    "\n",
    "# make prediction\n",
    "tips['yhat'] = lm.predict(tips[['total_bill']])"
   ]
  },
  {
   "cell_type": "code",
   "execution_count": 41,
   "metadata": {},
   "outputs": [],
   "source": [
    "# make a baseline prediction (mean of the tip)\n",
    "tips['baseline'] = tips.tip.mean()"
   ]
  },
  {
   "cell_type": "code",
   "execution_count": 42,
   "metadata": {},
   "outputs": [
    {
     "data": {
      "text/html": [
       "<div>\n",
       "<style scoped>\n",
       "    .dataframe tbody tr th:only-of-type {\n",
       "        vertical-align: middle;\n",
       "    }\n",
       "\n",
       "    .dataframe tbody tr th {\n",
       "        vertical-align: top;\n",
       "    }\n",
       "\n",
       "    .dataframe thead th {\n",
       "        text-align: right;\n",
       "    }\n",
       "</style>\n",
       "<table border=\"1\" class=\"dataframe\">\n",
       "  <thead>\n",
       "    <tr style=\"text-align: right;\">\n",
       "      <th></th>\n",
       "      <th>total_bill</th>\n",
       "      <th>tip</th>\n",
       "      <th>sex</th>\n",
       "      <th>smoker</th>\n",
       "      <th>day</th>\n",
       "      <th>time</th>\n",
       "      <th>size</th>\n",
       "      <th>yhat</th>\n",
       "      <th>baseline</th>\n",
       "    </tr>\n",
       "  </thead>\n",
       "  <tbody>\n",
       "    <tr>\n",
       "      <th>1</th>\n",
       "      <td>16.99</td>\n",
       "      <td>1.01</td>\n",
       "      <td>Female</td>\n",
       "      <td>No</td>\n",
       "      <td>Sun</td>\n",
       "      <td>Dinner</td>\n",
       "      <td>2</td>\n",
       "      <td>2.704636</td>\n",
       "      <td>2.998279</td>\n",
       "    </tr>\n",
       "    <tr>\n",
       "      <th>2</th>\n",
       "      <td>10.34</td>\n",
       "      <td>1.66</td>\n",
       "      <td>Male</td>\n",
       "      <td>No</td>\n",
       "      <td>Sun</td>\n",
       "      <td>Dinner</td>\n",
       "      <td>3</td>\n",
       "      <td>2.006223</td>\n",
       "      <td>2.998279</td>\n",
       "    </tr>\n",
       "    <tr>\n",
       "      <th>3</th>\n",
       "      <td>21.01</td>\n",
       "      <td>3.50</td>\n",
       "      <td>Male</td>\n",
       "      <td>No</td>\n",
       "      <td>Sun</td>\n",
       "      <td>Dinner</td>\n",
       "      <td>3</td>\n",
       "      <td>3.126835</td>\n",
       "      <td>2.998279</td>\n",
       "    </tr>\n",
       "    <tr>\n",
       "      <th>4</th>\n",
       "      <td>23.68</td>\n",
       "      <td>3.31</td>\n",
       "      <td>Male</td>\n",
       "      <td>No</td>\n",
       "      <td>Sun</td>\n",
       "      <td>Dinner</td>\n",
       "      <td>2</td>\n",
       "      <td>3.407250</td>\n",
       "      <td>2.998279</td>\n",
       "    </tr>\n",
       "    <tr>\n",
       "      <th>5</th>\n",
       "      <td>24.59</td>\n",
       "      <td>3.61</td>\n",
       "      <td>Female</td>\n",
       "      <td>No</td>\n",
       "      <td>Sun</td>\n",
       "      <td>Dinner</td>\n",
       "      <td>4</td>\n",
       "      <td>3.502822</td>\n",
       "      <td>2.998279</td>\n",
       "    </tr>\n",
       "  </tbody>\n",
       "</table>\n",
       "</div>"
      ],
      "text/plain": [
       "   total_bill   tip     sex smoker  day    time  size      yhat  baseline\n",
       "1       16.99  1.01  Female     No  Sun  Dinner     2  2.704636  2.998279\n",
       "2       10.34  1.66    Male     No  Sun  Dinner     3  2.006223  2.998279\n",
       "3       21.01  3.50    Male     No  Sun  Dinner     3  3.126835  2.998279\n",
       "4       23.68  3.31    Male     No  Sun  Dinner     2  3.407250  2.998279\n",
       "5       24.59  3.61  Female     No  Sun  Dinner     4  3.502822  2.998279"
      ]
     },
     "execution_count": 42,
     "metadata": {},
     "output_type": "execute_result"
    }
   ],
   "source": [
    "tips.head()"
   ]
  },
  {
   "cell_type": "code",
   "execution_count": 43,
   "metadata": {},
   "outputs": [
    {
     "data": {
      "text/plain": [
       "<AxesSubplot:xlabel='total_bill', ylabel='tip'>"
      ]
     },
     "execution_count": 43,
     "metadata": {},
     "output_type": "execute_result"
    },
    {
     "data": {
      "image/png": "[encoded data removed]",
      "text/plain": [
       "<Figure size 432x288 with 1 Axes>"
      ]
     },
     "metadata": {
      "needs_background": "light"
     },
     "output_type": "display_data"
    }
   ],
   "source": [
    "# plot data and prediction line\n",
    "\n",
    "sns.scatterplot(x = 'total_bill', y = 'tip', data = tips)\n",
    "sns.lineplot(x = 'total_bill', y = 'baseline', data = tips)\n",
    "sns.lineplot(x = 'total_bill', y = 'yhat', data = tips)"
   ]
  },
  {
   "cell_type": "markdown",
   "metadata": {},
   "source": [
    "3. Plot the residuals for the linear regression model that you made.\n",
    "\n"
   ]
  },
  {
   "cell_type": "code",
   "execution_count": 44,
   "metadata": {},
   "outputs": [],
   "source": [
    "tips['residual'] = tips.tip - tips.yhat\n",
    "tips['baseline_residual'] = tips.tip - tips.baseline"
   ]
  },
  {
   "cell_type": "code",
   "execution_count": 45,
   "metadata": {},
   "outputs": [
    {
     "data": {
      "text/html": [
       "<div>\n",
       "<style scoped>\n",
       "    .dataframe tbody tr th:only-of-type {\n",
       "        vertical-align: middle;\n",
       "    }\n",
       "\n",
       "    .dataframe tbody tr th {\n",
       "        vertical-align: top;\n",
       "    }\n",
       "\n",
       "    .dataframe thead th {\n",
       "        text-align: right;\n",
       "    }\n",
       "</style>\n",
       "<table border=\"1\" class=\"dataframe\">\n",
       "  <thead>\n",
       "    <tr style=\"text-align: right;\">\n",
       "      <th></th>\n",
       "      <th>total_bill</th>\n",
       "      <th>tip</th>\n",
       "      <th>sex</th>\n",
       "      <th>smoker</th>\n",
       "      <th>day</th>\n",
       "      <th>time</th>\n",
       "      <th>size</th>\n",
       "      <th>yhat</th>\n",
       "      <th>baseline</th>\n",
       "      <th>residual</th>\n",
       "      <th>baseline_residual</th>\n",
       "    </tr>\n",
       "  </thead>\n",
       "  <tbody>\n",
       "    <tr>\n",
       "      <th>1</th>\n",
       "      <td>16.99</td>\n",
       "      <td>1.01</td>\n",
       "      <td>Female</td>\n",
       "      <td>No</td>\n",
       "      <td>Sun</td>\n",
       "      <td>Dinner</td>\n",
       "      <td>2</td>\n",
       "      <td>2.704636</td>\n",
       "      <td>2.998279</td>\n",
       "      <td>-1.694636</td>\n",
       "      <td>-1.988279</td>\n",
       "    </tr>\n",
       "    <tr>\n",
       "      <th>2</th>\n",
       "      <td>10.34</td>\n",
       "      <td>1.66</td>\n",
       "      <td>Male</td>\n",
       "      <td>No</td>\n",
       "      <td>Sun</td>\n",
       "      <td>Dinner</td>\n",
       "      <td>3</td>\n",
       "      <td>2.006223</td>\n",
       "      <td>2.998279</td>\n",
       "      <td>-0.346223</td>\n",
       "      <td>-1.338279</td>\n",
       "    </tr>\n",
       "    <tr>\n",
       "      <th>3</th>\n",
       "      <td>21.01</td>\n",
       "      <td>3.50</td>\n",
       "      <td>Male</td>\n",
       "      <td>No</td>\n",
       "      <td>Sun</td>\n",
       "      <td>Dinner</td>\n",
       "      <td>3</td>\n",
       "      <td>3.126835</td>\n",
       "      <td>2.998279</td>\n",
       "      <td>0.373165</td>\n",
       "      <td>0.501721</td>\n",
       "    </tr>\n",
       "    <tr>\n",
       "      <th>4</th>\n",
       "      <td>23.68</td>\n",
       "      <td>3.31</td>\n",
       "      <td>Male</td>\n",
       "      <td>No</td>\n",
       "      <td>Sun</td>\n",
       "      <td>Dinner</td>\n",
       "      <td>2</td>\n",
       "      <td>3.407250</td>\n",
       "      <td>2.998279</td>\n",
       "      <td>-0.097250</td>\n",
       "      <td>0.311721</td>\n",
       "    </tr>\n",
       "    <tr>\n",
       "      <th>5</th>\n",
       "      <td>24.59</td>\n",
       "      <td>3.61</td>\n",
       "      <td>Female</td>\n",
       "      <td>No</td>\n",
       "      <td>Sun</td>\n",
       "      <td>Dinner</td>\n",
       "      <td>4</td>\n",
       "      <td>3.502822</td>\n",
       "      <td>2.998279</td>\n",
       "      <td>0.107178</td>\n",
       "      <td>0.611721</td>\n",
       "    </tr>\n",
       "  </tbody>\n",
       "</table>\n",
       "</div>"
      ],
      "text/plain": [
       "   total_bill   tip     sex smoker  day    time  size      yhat  baseline  \\\n",
       "1       16.99  1.01  Female     No  Sun  Dinner     2  2.704636  2.998279   \n",
       "2       10.34  1.66    Male     No  Sun  Dinner     3  2.006223  2.998279   \n",
       "3       21.01  3.50    Male     No  Sun  Dinner     3  3.126835  2.998279   \n",
       "4       23.68  3.31    Male     No  Sun  Dinner     2  3.407250  2.998279   \n",
       "5       24.59  3.61  Female     No  Sun  Dinner     4  3.502822  2.998279   \n",
       "\n",
       "   residual  baseline_residual  \n",
       "1 -1.694636          -1.988279  \n",
       "2 -0.346223          -1.338279  \n",
       "3  0.373165           0.501721  \n",
       "4 -0.097250           0.311721  \n",
       "5  0.107178           0.611721  "
      ]
     },
     "execution_count": 45,
     "metadata": {},
     "output_type": "execute_result"
    }
   ],
   "source": [
    "tips.head()"
   ]
  },
  {
   "cell_type": "code",
   "execution_count": 46,
   "metadata": {},
   "outputs": [
    {
     "data": {
      "text/plain": [
       "<matplotlib.lines.Line2D at 0x7fd0e9ef1550>"
      ]
     },
     "execution_count": 46,
     "metadata": {},
     "output_type": "execute_result"
    },
    {
     "data": {
      "image/png": "[encoded data removed]",
      "text/plain": [
       "<Figure size 360x360 with 1 Axes>"
      ]
     },
     "metadata": {
      "needs_background": "light"
     },
     "output_type": "display_data"
    }
   ],
   "source": [
    "sns.relplot(x = 'total_bill', y = 'residual', data = tips)\n",
    "plt.axhline(0, ls = ':')"
   ]
  },
  {
   "cell_type": "markdown",
   "metadata": {},
   "source": [
    "Heteroscedasticity: \n",
    "  - unequal variance of errors\n",
    "  - Heteroscedasticity may also have the effect of giving too much weight to a small subset of the data (namely the subset where the error variance was largest) when estimating coefficients.\n",
    "  - possibily apply some transformations(?)\n"
   ]
  },
  {
   "cell_type": "code",
   "execution_count": 47,
   "metadata": {},
   "outputs": [
    {
     "data": {
      "text/plain": [
       "<matplotlib.lines.Line2D at 0x7fd0ea0d9c70>"
      ]
     },
     "execution_count": 47,
     "metadata": {},
     "output_type": "execute_result"
    },
    {
     "data": {
      "image/png": "[encoded data removed]",
      "text/plain": [
       "<Figure size 360x360 with 1 Axes>"
      ]
     },
     "metadata": {
      "needs_background": "light"
     },
     "output_type": "display_data"
    }
   ],
   "source": [
    "# residual plot (tip vs residuals)\n",
    "\n",
    "sns.relplot(x = 'tip', y = 'residual', data = tips)\n",
    "plt.axhline(0, ls = ':')"
   ]
  },
  {
   "cell_type": "markdown",
   "metadata": {},
   "source": [
    "4. Calculate the sum of squared errors, explained sum of squares, total sum of squares, mean squared error, and root mean squared error for your model.\n",
    "\n"
   ]
  },
  {
   "cell_type": "code",
   "execution_count": 48,
   "metadata": {},
   "outputs": [
    {
     "data": {
      "text/html": [
       "<div>\n",
       "<style scoped>\n",
       "    .dataframe tbody tr th:only-of-type {\n",
       "        vertical-align: middle;\n",
       "    }\n",
       "\n",
       "    .dataframe tbody tr th {\n",
       "        vertical-align: top;\n",
       "    }\n",
       "\n",
       "    .dataframe thead th {\n",
       "        text-align: right;\n",
       "    }\n",
       "</style>\n",
       "<table border=\"1\" class=\"dataframe\">\n",
       "  <thead>\n",
       "    <tr style=\"text-align: right;\">\n",
       "      <th></th>\n",
       "      <th>total_bill</th>\n",
       "      <th>tip</th>\n",
       "      <th>sex</th>\n",
       "      <th>smoker</th>\n",
       "      <th>day</th>\n",
       "      <th>time</th>\n",
       "      <th>size</th>\n",
       "      <th>yhat</th>\n",
       "      <th>baseline</th>\n",
       "      <th>residual</th>\n",
       "      <th>baseline_residual</th>\n",
       "    </tr>\n",
       "  </thead>\n",
       "  <tbody>\n",
       "    <tr>\n",
       "      <th>1</th>\n",
       "      <td>16.99</td>\n",
       "      <td>1.01</td>\n",
       "      <td>Female</td>\n",
       "      <td>No</td>\n",
       "      <td>Sun</td>\n",
       "      <td>Dinner</td>\n",
       "      <td>2</td>\n",
       "      <td>2.704636</td>\n",
       "      <td>2.998279</td>\n",
       "      <td>-1.694636</td>\n",
       "      <td>-1.988279</td>\n",
       "    </tr>\n",
       "    <tr>\n",
       "      <th>2</th>\n",
       "      <td>10.34</td>\n",
       "      <td>1.66</td>\n",
       "      <td>Male</td>\n",
       "      <td>No</td>\n",
       "      <td>Sun</td>\n",
       "      <td>Dinner</td>\n",
       "      <td>3</td>\n",
       "      <td>2.006223</td>\n",
       "      <td>2.998279</td>\n",
       "      <td>-0.346223</td>\n",
       "      <td>-1.338279</td>\n",
       "    </tr>\n",
       "    <tr>\n",
       "      <th>3</th>\n",
       "      <td>21.01</td>\n",
       "      <td>3.50</td>\n",
       "      <td>Male</td>\n",
       "      <td>No</td>\n",
       "      <td>Sun</td>\n",
       "      <td>Dinner</td>\n",
       "      <td>3</td>\n",
       "      <td>3.126835</td>\n",
       "      <td>2.998279</td>\n",
       "      <td>0.373165</td>\n",
       "      <td>0.501721</td>\n",
       "    </tr>\n",
       "    <tr>\n",
       "      <th>4</th>\n",
       "      <td>23.68</td>\n",
       "      <td>3.31</td>\n",
       "      <td>Male</td>\n",
       "      <td>No</td>\n",
       "      <td>Sun</td>\n",
       "      <td>Dinner</td>\n",
       "      <td>2</td>\n",
       "      <td>3.407250</td>\n",
       "      <td>2.998279</td>\n",
       "      <td>-0.097250</td>\n",
       "      <td>0.311721</td>\n",
       "    </tr>\n",
       "    <tr>\n",
       "      <th>5</th>\n",
       "      <td>24.59</td>\n",
       "      <td>3.61</td>\n",
       "      <td>Female</td>\n",
       "      <td>No</td>\n",
       "      <td>Sun</td>\n",
       "      <td>Dinner</td>\n",
       "      <td>4</td>\n",
       "      <td>3.502822</td>\n",
       "      <td>2.998279</td>\n",
       "      <td>0.107178</td>\n",
       "      <td>0.611721</td>\n",
       "    </tr>\n",
       "  </tbody>\n",
       "</table>\n",
       "</div>"
      ],
      "text/plain": [
       "   total_bill   tip     sex smoker  day    time  size      yhat  baseline  \\\n",
       "1       16.99  1.01  Female     No  Sun  Dinner     2  2.704636  2.998279   \n",
       "2       10.34  1.66    Male     No  Sun  Dinner     3  2.006223  2.998279   \n",
       "3       21.01  3.50    Male     No  Sun  Dinner     3  3.126835  2.998279   \n",
       "4       23.68  3.31    Male     No  Sun  Dinner     2  3.407250  2.998279   \n",
       "5       24.59  3.61  Female     No  Sun  Dinner     4  3.502822  2.998279   \n",
       "\n",
       "   residual  baseline_residual  \n",
       "1 -1.694636          -1.988279  \n",
       "2 -0.346223          -1.338279  \n",
       "3  0.373165           0.501721  \n",
       "4 -0.097250           0.311721  \n",
       "5  0.107178           0.611721  "
      ]
     },
     "execution_count": 48,
     "metadata": {},
     "output_type": "execute_result"
    }
   ],
   "source": [
    "tips.head()"
   ]
  },
  {
   "cell_type": "code",
   "execution_count": 49,
   "metadata": {},
   "outputs": [
    {
     "name": "stdout",
     "output_type": "stream",
     "text": [
      " The SSE of the OLS model is 252.8\n"
     ]
    }
   ],
   "source": [
    "SSE = (tips.residual**2).sum()\n",
    "print(f' The SSE of the OLS model is {round(SSE,1)}')"
   ]
  },
  {
   "cell_type": "code",
   "execution_count": 50,
   "metadata": {},
   "outputs": [
    {
     "name": "stdout",
     "output_type": "stream",
     "text": [
      " The SSE of the baseline model is 465.2\n"
     ]
    }
   ],
   "source": [
    "SSE_baseline = (tips.baseline_residual**2).sum()\n",
    "print(f' The SSE of the baseline model is {round(SSE_baseline,1)}')"
   ]
  },
  {
   "cell_type": "code",
   "execution_count": 51,
   "metadata": {},
   "outputs": [
    {
     "data": {
      "text/plain": [
       "1.036019442011377"
      ]
     },
     "execution_count": 51,
     "metadata": {},
     "output_type": "execute_result"
    }
   ],
   "source": [
    "#Mean squared error OLS:\n",
    "\n",
    "MSE = SSE/len(tips)\n",
    "MSE"
   ]
  },
  {
   "cell_type": "code",
   "execution_count": 52,
   "metadata": {},
   "outputs": [
    {
     "data": {
      "text/plain": [
       "1.906608512496641"
      ]
     },
     "execution_count": 52,
     "metadata": {},
     "output_type": "execute_result"
    }
   ],
   "source": [
    "#Mean squared error of baseline model:\n",
    "\n",
    "MSE_baseline = SSE_baseline/len(tips)\n",
    "MSE_baseline"
   ]
  },
  {
   "cell_type": "code",
   "execution_count": 53,
   "metadata": {},
   "outputs": [
    {
     "data": {
      "text/plain": [
       "1.0178504025697377"
      ]
     },
     "execution_count": 53,
     "metadata": {},
     "output_type": "execute_result"
    }
   ],
   "source": [
    "# RMSE of OLS model\n",
    "RMSE = mean_squared_error(tips.tip, tips.yhat, squared = False)\n",
    "RMSE"
   ]
  },
  {
   "cell_type": "code",
   "execution_count": 54,
   "metadata": {},
   "outputs": [
    {
     "data": {
      "text/plain": [
       "1.3807999538298954"
      ]
     },
     "execution_count": 54,
     "metadata": {},
     "output_type": "execute_result"
    }
   ],
   "source": [
    "# RMSE for the baseline model\n",
    "RMSE_baseline = mean_squared_error(tips.tip, tips.baseline, squared = False)\n",
    "RMSE_baseline"
   ]
  },
  {
   "cell_type": "code",
   "execution_count": 55,
   "metadata": {},
   "outputs": [
    {
     "data": {
      "text/plain": [
       "212.42373319840434"
      ]
     },
     "execution_count": 55,
     "metadata": {},
     "output_type": "execute_result"
    }
   ],
   "source": [
    "# ESS = sum(tips.yhat - tips.tip.mean())**2\n",
    "\n",
    "ESS = sum((tips.yhat - tips.baseline)**2)\n",
    "ESS"
   ]
  },
  {
   "cell_type": "code",
   "execution_count": 56,
   "metadata": {},
   "outputs": [
    {
     "data": {
      "text/plain": [
       "465.21247704918034"
      ]
     },
     "execution_count": 56,
     "metadata": {},
     "output_type": "execute_result"
    }
   ],
   "source": [
    "# Total Sum of Errors\n",
    "\n",
    "TSS = ESS + SSE\n",
    "TSS"
   ]
  },
  {
   "cell_type": "markdown",
   "metadata": {},
   "source": [
    "5. Write python code that compares the sum of squared errors for your model against the sum of squared errors for the baseline model and outputs whether or not your model performs better than the baseline model."
   ]
  },
  {
   "cell_type": "code",
   "execution_count": 57,
   "metadata": {},
   "outputs": [
    {
     "data": {
      "text/html": [
       "<div>\n",
       "<style scoped>\n",
       "    .dataframe tbody tr th:only-of-type {\n",
       "        vertical-align: middle;\n",
       "    }\n",
       "\n",
       "    .dataframe tbody tr th {\n",
       "        vertical-align: top;\n",
       "    }\n",
       "\n",
       "    .dataframe thead th {\n",
       "        text-align: right;\n",
       "    }\n",
       "</style>\n",
       "<table border=\"1\" class=\"dataframe\">\n",
       "  <thead>\n",
       "    <tr style=\"text-align: right;\">\n",
       "      <th></th>\n",
       "      <th>metric</th>\n",
       "      <th>model_error</th>\n",
       "    </tr>\n",
       "  </thead>\n",
       "  <tbody>\n",
       "    <tr>\n",
       "      <th>0</th>\n",
       "      <td>SSE</td>\n",
       "      <td>252.788744</td>\n",
       "    </tr>\n",
       "    <tr>\n",
       "      <th>1</th>\n",
       "      <td>MSE</td>\n",
       "      <td>1.036019</td>\n",
       "    </tr>\n",
       "    <tr>\n",
       "      <th>2</th>\n",
       "      <td>RMSE</td>\n",
       "      <td>1.017850</td>\n",
       "    </tr>\n",
       "  </tbody>\n",
       "</table>\n",
       "</div>"
      ],
      "text/plain": [
       "  metric  model_error\n",
       "0    SSE   252.788744\n",
       "1    MSE     1.036019\n",
       "2   RMSE     1.017850"
      ]
     },
     "execution_count": 57,
     "metadata": {},
     "output_type": "execute_result"
    }
   ],
   "source": [
    "df_eval = pd.DataFrame(np.array(['SSE', 'MSE','RMSE']), columns=['metric'])\n",
    "df_eval['model_error'] = np.array([SSE,  MSE, RMSE])\n",
    "\n",
    "\n",
    "df_eval"
   ]
  },
  {
   "cell_type": "code",
   "execution_count": 58,
   "metadata": {},
   "outputs": [
    {
     "data": {
      "text/html": [
       "<div>\n",
       "<style scoped>\n",
       "    .dataframe tbody tr th:only-of-type {\n",
       "        vertical-align: middle;\n",
       "    }\n",
       "\n",
       "    .dataframe tbody tr th {\n",
       "        vertical-align: top;\n",
       "    }\n",
       "\n",
       "    .dataframe thead th {\n",
       "        text-align: right;\n",
       "    }\n",
       "</style>\n",
       "<table border=\"1\" class=\"dataframe\">\n",
       "  <thead>\n",
       "    <tr style=\"text-align: right;\">\n",
       "      <th></th>\n",
       "      <th>metric</th>\n",
       "      <th>model_error</th>\n",
       "      <th>baseline_error</th>\n",
       "    </tr>\n",
       "  </thead>\n",
       "  <tbody>\n",
       "    <tr>\n",
       "      <th>0</th>\n",
       "      <td>SSE</td>\n",
       "      <td>252.788744</td>\n",
       "      <td>465.212477</td>\n",
       "    </tr>\n",
       "    <tr>\n",
       "      <th>1</th>\n",
       "      <td>MSE</td>\n",
       "      <td>1.036019</td>\n",
       "      <td>1.906609</td>\n",
       "    </tr>\n",
       "    <tr>\n",
       "      <th>2</th>\n",
       "      <td>RMSE</td>\n",
       "      <td>1.017850</td>\n",
       "      <td>1.380800</td>\n",
       "    </tr>\n",
       "  </tbody>\n",
       "</table>\n",
       "</div>"
      ],
      "text/plain": [
       "  metric  model_error  baseline_error\n",
       "0    SSE   252.788744      465.212477\n",
       "1    MSE     1.036019        1.906609\n",
       "2   RMSE     1.017850        1.380800"
      ]
     },
     "execution_count": 58,
     "metadata": {},
     "output_type": "execute_result"
    }
   ],
   "source": [
    "df_eval['baseline_error'] = np.array([SSE_baseline,MSE_baseline, RMSE_baseline])\n",
    "\n",
    "df_eval"
   ]
  },
  {
   "cell_type": "code",
   "execution_count": 59,
   "metadata": {},
   "outputs": [],
   "source": [
    "df_eval['better_than_baseline'] = df_eval.baseline_error > df_eval.model_error"
   ]
  },
  {
   "cell_type": "code",
   "execution_count": 60,
   "metadata": {},
   "outputs": [
    {
     "data": {
      "text/html": [
       "<div>\n",
       "<style scoped>\n",
       "    .dataframe tbody tr th:only-of-type {\n",
       "        vertical-align: middle;\n",
       "    }\n",
       "\n",
       "    .dataframe tbody tr th {\n",
       "        vertical-align: top;\n",
       "    }\n",
       "\n",
       "    .dataframe thead th {\n",
       "        text-align: right;\n",
       "    }\n",
       "</style>\n",
       "<table border=\"1\" class=\"dataframe\">\n",
       "  <thead>\n",
       "    <tr style=\"text-align: right;\">\n",
       "      <th></th>\n",
       "      <th>metric</th>\n",
       "      <th>model_error</th>\n",
       "      <th>baseline_error</th>\n",
       "      <th>better_than_baseline</th>\n",
       "    </tr>\n",
       "  </thead>\n",
       "  <tbody>\n",
       "    <tr>\n",
       "      <th>0</th>\n",
       "      <td>SSE</td>\n",
       "      <td>252.788744</td>\n",
       "      <td>465.212477</td>\n",
       "      <td>True</td>\n",
       "    </tr>\n",
       "    <tr>\n",
       "      <th>1</th>\n",
       "      <td>MSE</td>\n",
       "      <td>1.036019</td>\n",
       "      <td>1.906609</td>\n",
       "      <td>True</td>\n",
       "    </tr>\n",
       "    <tr>\n",
       "      <th>2</th>\n",
       "      <td>RMSE</td>\n",
       "      <td>1.017850</td>\n",
       "      <td>1.380800</td>\n",
       "      <td>True</td>\n",
       "    </tr>\n",
       "  </tbody>\n",
       "</table>\n",
       "</div>"
      ],
      "text/plain": [
       "  metric  model_error  baseline_error  better_than_baseline\n",
       "0    SSE   252.788744      465.212477                  True\n",
       "1    MSE     1.036019        1.906609                  True\n",
       "2   RMSE     1.017850        1.380800                  True"
      ]
     },
     "execution_count": 60,
     "metadata": {},
     "output_type": "execute_result"
    }
   ],
   "source": [
    "df_eval"
   ]
  },
  {
   "cell_type": "markdown",
   "metadata": {},
   "source": [
    "7. What is the amount of variance explained in your model?"
   ]
  },
  {
   "cell_type": "code",
   "execution_count": 61,
   "metadata": {},
   "outputs": [
    {
     "data": {
      "text/plain": [
       "0.45661658635167657"
      ]
     },
     "execution_count": 61,
     "metadata": {},
     "output_type": "execute_result"
    }
   ],
   "source": [
    "from sklearn.metrics import r2_score\n",
    "r2_score(tips.tip, tips.yhat)"
   ]
  },
  {
   "cell_type": "code",
   "execution_count": 62,
   "metadata": {
    "scrolled": true
   },
   "outputs": [
    {
     "data": {
      "text/plain": [
       "True"
      ]
     },
     "execution_count": 62,
     "metadata": {},
     "output_type": "execute_result"
    }
   ],
   "source": [
    "better_than_baseline(tips.tip, tips.yhat)"
   ]
  },
  {
   "cell_type": "markdown",
   "metadata": {},
   "source": [
    "### B2. Load the mpg dataset and fit a model that predicts highway mileage based on engine displacement. Take a look at all the regression evaluation metrics, and determine whether this model is better than the baseline model. Use the functions from your evaluate.py to help accomplish this."
   ]
  },
  {
   "cell_type": "code",
   "execution_count": 63,
   "metadata": {},
   "outputs": [],
   "source": [
    "mpg = data('mpg')"
   ]
  },
  {
   "cell_type": "code",
   "execution_count": 64,
   "metadata": {},
   "outputs": [
    {
     "data": {
      "text/html": [
       "<div>\n",
       "<style scoped>\n",
       "    .dataframe tbody tr th:only-of-type {\n",
       "        vertical-align: middle;\n",
       "    }\n",
       "\n",
       "    .dataframe tbody tr th {\n",
       "        vertical-align: top;\n",
       "    }\n",
       "\n",
       "    .dataframe thead th {\n",
       "        text-align: right;\n",
       "    }\n",
       "</style>\n",
       "<table border=\"1\" class=\"dataframe\">\n",
       "  <thead>\n",
       "    <tr style=\"text-align: right;\">\n",
       "      <th></th>\n",
       "      <th>manufacturer</th>\n",
       "      <th>model</th>\n",
       "      <th>displ</th>\n",
       "      <th>year</th>\n",
       "      <th>cyl</th>\n",
       "      <th>trans</th>\n",
       "      <th>drv</th>\n",
       "      <th>cty</th>\n",
       "      <th>hwy</th>\n",
       "      <th>fl</th>\n",
       "      <th>class</th>\n",
       "    </tr>\n",
       "  </thead>\n",
       "  <tbody>\n",
       "    <tr>\n",
       "      <th>1</th>\n",
       "      <td>audi</td>\n",
       "      <td>a4</td>\n",
       "      <td>1.8</td>\n",
       "      <td>1999</td>\n",
       "      <td>4</td>\n",
       "      <td>auto(l5)</td>\n",
       "      <td>f</td>\n",
       "      <td>18</td>\n",
       "      <td>29</td>\n",
       "      <td>p</td>\n",
       "      <td>compact</td>\n",
       "    </tr>\n",
       "    <tr>\n",
       "      <th>2</th>\n",
       "      <td>audi</td>\n",
       "      <td>a4</td>\n",
       "      <td>1.8</td>\n",
       "      <td>1999</td>\n",
       "      <td>4</td>\n",
       "      <td>manual(m5)</td>\n",
       "      <td>f</td>\n",
       "      <td>21</td>\n",
       "      <td>29</td>\n",
       "      <td>p</td>\n",
       "      <td>compact</td>\n",
       "    </tr>\n",
       "    <tr>\n",
       "      <th>3</th>\n",
       "      <td>audi</td>\n",
       "      <td>a4</td>\n",
       "      <td>2.0</td>\n",
       "      <td>2008</td>\n",
       "      <td>4</td>\n",
       "      <td>manual(m6)</td>\n",
       "      <td>f</td>\n",
       "      <td>20</td>\n",
       "      <td>31</td>\n",
       "      <td>p</td>\n",
       "      <td>compact</td>\n",
       "    </tr>\n",
       "    <tr>\n",
       "      <th>4</th>\n",
       "      <td>audi</td>\n",
       "      <td>a4</td>\n",
       "      <td>2.0</td>\n",
       "      <td>2008</td>\n",
       "      <td>4</td>\n",
       "      <td>auto(av)</td>\n",
       "      <td>f</td>\n",
       "      <td>21</td>\n",
       "      <td>30</td>\n",
       "      <td>p</td>\n",
       "      <td>compact</td>\n",
       "    </tr>\n",
       "    <tr>\n",
       "      <th>5</th>\n",
       "      <td>audi</td>\n",
       "      <td>a4</td>\n",
       "      <td>2.8</td>\n",
       "      <td>1999</td>\n",
       "      <td>6</td>\n",
       "      <td>auto(l5)</td>\n",
       "      <td>f</td>\n",
       "      <td>16</td>\n",
       "      <td>26</td>\n",
       "      <td>p</td>\n",
       "      <td>compact</td>\n",
       "    </tr>\n",
       "  </tbody>\n",
       "</table>\n",
       "</div>"
      ],
      "text/plain": [
       "  manufacturer model  displ  year  cyl       trans drv  cty  hwy fl    class\n",
       "1         audi    a4    1.8  1999    4    auto(l5)   f   18   29  p  compact\n",
       "2         audi    a4    1.8  1999    4  manual(m5)   f   21   29  p  compact\n",
       "3         audi    a4    2.0  2008    4  manual(m6)   f   20   31  p  compact\n",
       "4         audi    a4    2.0  2008    4    auto(av)   f   21   30  p  compact\n",
       "5         audi    a4    2.8  1999    6    auto(l5)   f   16   26  p  compact"
      ]
     },
     "execution_count": 64,
     "metadata": {},
     "output_type": "execute_result"
    }
   ],
   "source": [
    "mpg.head()"
   ]
  },
  {
   "cell_type": "code",
   "execution_count": 65,
   "metadata": {},
   "outputs": [
    {
     "data": {
      "text/plain": [
       "<matplotlib.collections.PathCollection at 0x7fd0ea310af0>"
      ]
     },
     "execution_count": 65,
     "metadata": {},
     "output_type": "execute_result"
    },
    {
     "data": {
      "image/png": "[encoded data removed]",
      "text/plain": [
       "<Figure size 432x288 with 1 Axes>"
      ]
     },
     "metadata": {
      "needs_background": "light"
     },
     "output_type": "display_data"
    }
   ],
   "source": [
    "#plot displacement vs highway mpg\n",
    "\n",
    "plt.scatter(mpg.displ, mpg.hwy)"
   ]
  },
  {
   "cell_type": "code",
   "execution_count": 66,
   "metadata": {},
   "outputs": [],
   "source": [
    "# create the model object\n",
    "lm = LinearRegression(normalize=True)\n",
    "\n",
    "# fit the model to trainig data\n",
    "lm.fit(mpg[['displ']], mpg.hwy)\n",
    "\n",
    "# make prediction\n",
    "predictions = lm.predict(mpg[['displ']])"
   ]
  },
  {
   "cell_type": "code",
   "execution_count": 67,
   "metadata": {},
   "outputs": [
    {
     "data": {
      "text/plain": [
       "Text(0, 0.5, 'highway mpg')"
      ]
     },
     "execution_count": 67,
     "metadata": {},
     "output_type": "execute_result"
    },
    {
     "data": {
      "image/png": "[encoded data removed]",
      "text/plain": [
       "<Figure size 432x288 with 1 Axes>"
      ]
     },
     "metadata": {
      "needs_background": "light"
     },
     "output_type": "display_data"
    }
   ],
   "source": [
    "# plot regression line\n",
    "\n",
    "plt.scatter(mpg.displ, mpg.hwy)\n",
    "plt.plot(mpg.displ, predictions)\n",
    "plt.xlabel('displacement (lites)')\n",
    "plt.ylabel('highway mpg')"
   ]
  },
  {
   "cell_type": "code",
   "execution_count": 68,
   "metadata": {},
   "outputs": [
    {
     "data": {
      "text/plain": [
       "Text(0.5, 0, 'displacement (liters)')"
      ]
     },
     "execution_count": 68,
     "metadata": {},
     "output_type": "execute_result"
    },
    {
     "data": {
      "image/png": "[encoded data removed]",
      "text/plain": [
       "<Figure size 432x288 with 1 Axes>"
      ]
     },
     "metadata": {
      "needs_background": "light"
     },
     "output_type": "display_data"
    }
   ],
   "source": [
    "# plot displacement vs residuals\n",
    "\n",
    "plt.scatter(mpg.displ, (mpg.hwy - predictions))\n",
    "plt.axhline(0, ls = ':')\n",
    "plt.ylabel('residuals')\n",
    "plt.xlabel('displacement (liters)')"
   ]
  },
  {
   "cell_type": "code",
   "execution_count": 69,
   "metadata": {},
   "outputs": [
    {
     "data": {
      "text/plain": [
       "sse     3413.829009\n",
       "ess     4847.833384\n",
       "tss     8261.662393\n",
       "mse       14.589013\n",
       "rmse       3.819557\n",
       "dtype: float64"
      ]
     },
     "execution_count": 69,
     "metadata": {},
     "output_type": "execute_result"
    }
   ],
   "source": [
    "# calculate regressions errors\n",
    "regression_errors(mpg.hwy, predictions)"
   ]
  },
  {
   "cell_type": "code",
   "execution_count": 70,
   "metadata": {},
   "outputs": [
    {
     "data": {
      "text/plain": [
       "True"
      ]
     },
     "execution_count": 70,
     "metadata": {},
     "output_type": "execute_result"
    }
   ],
   "source": [
    "# is our model better than baseline?\n",
    "\n",
    "better_than_baseline(mpg.hwy, predictions)"
   ]
  },
  {
   "cell_type": "code",
   "execution_count": 71,
   "metadata": {},
   "outputs": [
    {
     "data": {
      "text/plain": [
       "0.5867866723989039"
      ]
     },
     "execution_count": 71,
     "metadata": {},
     "output_type": "execute_result"
    }
   ],
   "source": [
    "# R2 score\n",
    "\n",
    "r2_score(mpg.hwy, predictions)"
   ]
  }
 ],
 "metadata": {
  "kernelspec": {
   "display_name": "Python 3",
   "language": "python",
   "name": "python3"
  },
  "language_info": {
   "codemirror_mode": {
    "name": "ipython",
    "version": 3
   },
   "file_extension": ".py",
   "mimetype": "text/x-python",
   "name": "python",
   "nbconvert_exporter": "python",
   "pygments_lexer": "ipython3",
   "version": "3.8.8"
  }
 },
 "nbformat": 4,
 "nbformat_minor": 4
}
